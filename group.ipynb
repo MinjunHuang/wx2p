{
 "cells": [
  {
   "cell_type": "markdown",
   "metadata": {},
   "source": [
    "#使用 Python(Pandas) 做群组分析(Cohort Analysis)"
   ]
  },
  {
   "cell_type": "markdown",
   "metadata": {},
   "source": [
    "首先为什么要搞这个群组分析呢，由于某种机缘巧合，我进入了O2O餐饮行业，简单点就是个卖饭的，我表示对用户的购买行为还是很感兴趣。\n",
    "\n",
    "一个群组表示某一类具有特定相同特征的用户群体，这些特征可以是用户注册日期、用户第一次购买行为发生的月份、用户的生日抑或是用户的购买途径等等。群组分析能够通过对这些群体进行实时的追踪，帮助我们发现趋势、了解用户的重复行为（包括购买、访问、花费金额等等），并对用户与收入的留存情况进行监控。这里我们基于用户在平台上进行的第一次“行为”进行分析。"
   ]
  },
  {
   "cell_type": "code",
   "execution_count": 1,
   "metadata": {
    "collapsed": false
   },
   "outputs": [],
   "source": [
    "#引入相关包\n",
    "import pandas as pd\n",
    "import numpy as np\n",
    "import matplotlib.pyplot as plt\n",
    "import matplotlib as mpl\n",
    "import MySQLdb as mysql\n",
    "\n",
    "%matplotlib inline\n",
    "pd.set_option('max_columns', 50)\n",
    "mpl.rcParams['lines.linewidth'] = 2"
   ]
  },
  {
   "cell_type": "markdown",
   "metadata": {
    "collapsed": true
   },
   "source": [
    "第一步 读取数据\n",
    "\n",
    "这里是从订单表里直接读取订单数据"
   ]
  },
  {
   "cell_type": "code",
   "execution_count": 2,
   "metadata": {
    "collapsed": false
   },
   "outputs": [],
   "source": [
    "sql = 'SELECT xxx FROM table_name'\n",
    "conn = mysql.connect(host='mysql_host',port=3306,db='your_db_name',user='username',passwd='password')\n",
    "data = pd.read_sql(sql, conn)"
   ]
  },
  {
   "cell_type": "code",
   "execution_count": 3,
   "metadata": {
    "collapsed": false
   },
   "outputs": [
    {
     "data": {
      "text/html": [
       "<div style=\"max-height:1000px;max-width:1500px;overflow:auto;\">\n",
       "<table border=\"1\" class=\"dataframe\">\n",
       "  <thead>\n",
       "    <tr style=\"text-align: right;\">\n",
       "      <th></th>\n",
       "      <th>id</th>\n",
       "      <th>uid</th>\n",
       "      <th>total_price</th>\n",
       "      <th>mobile</th>\n",
       "      <th>create_time</th>\n",
       "      <th>take_time</th>\n",
       "    </tr>\n",
       "  </thead>\n",
       "  <tbody>\n",
       "    <tr>\n",
       "      <th>0</th>\n",
       "      <td> 95026</td>\n",
       "      <td>  37104</td>\n",
       "      <td>  350</td>\n",
       "      <td> 18551588538</td>\n",
       "      <td> 2016-01-04</td>\n",
       "      <td> 2016-01-04</td>\n",
       "    </tr>\n",
       "    <tr>\n",
       "      <th>1</th>\n",
       "      <td> 95560</td>\n",
       "      <td>   6010</td>\n",
       "      <td> 1089</td>\n",
       "      <td> 13585576428</td>\n",
       "      <td> 2016-01-04</td>\n",
       "      <td> 2016-01-05</td>\n",
       "    </tr>\n",
       "    <tr>\n",
       "      <th>2</th>\n",
       "      <td> 95639</td>\n",
       "      <td> 119568</td>\n",
       "      <td>  250</td>\n",
       "      <td> 18616759042</td>\n",
       "      <td> 2016-01-05</td>\n",
       "      <td> 2016-01-05</td>\n",
       "    </tr>\n",
       "    <tr>\n",
       "      <th>3</th>\n",
       "      <td> 95863</td>\n",
       "      <td>  37104</td>\n",
       "      <td>  410</td>\n",
       "      <td> 18551588538</td>\n",
       "      <td> 2016-01-05</td>\n",
       "      <td> 2016-01-05</td>\n",
       "    </tr>\n",
       "    <tr>\n",
       "      <th>4</th>\n",
       "      <td> 95910</td>\n",
       "      <td>  33603</td>\n",
       "      <td>  448</td>\n",
       "      <td> 13916340391</td>\n",
       "      <td> 2016-01-05</td>\n",
       "      <td> 2016-01-05</td>\n",
       "    </tr>\n",
       "  </tbody>\n",
       "</table>\n",
       "</div>"
      ],
      "text/plain": [
       "      id     uid  total_price       mobile create_time   take_time\n",
       "0  95026   37104          350  18551588538  2016-01-04  2016-01-04\n",
       "1  95560    6010         1089  13585576428  2016-01-04  2016-01-05\n",
       "2  95639  119568          250  18616759042  2016-01-05  2016-01-05\n",
       "3  95863   37104          410  18551588538  2016-01-05  2016-01-05\n",
       "4  95910   33603          448  13916340391  2016-01-05  2016-01-05"
      ]
     },
     "execution_count": 3,
     "metadata": {},
     "output_type": "execute_result"
    }
   ],
   "source": [
    "data.head()"
   ]
  },
  {
   "cell_type": "markdown",
   "metadata": {},
   "source": [
    "##首选基于 OrderDate 数据构造一个时间段数据列"
   ]
  },
  {
   "cell_type": "markdown",
   "metadata": {},
   "source": [
    "因为我们想做的是月度的群组分析，所以需要我们着重观察的是月度合计的用户行为。在这种情况下，我们并不需要粒度化的OrderDate数据，只要以月为粒度即可。"
   ]
  },
  {
   "cell_type": "code",
   "execution_count": 4,
   "metadata": {
    "collapsed": true
   },
   "outputs": [],
   "source": [
    "import time, datetime"
   ]
  },
  {
   "cell_type": "code",
   "execution_count": 5,
   "metadata": {
    "collapsed": true
   },
   "outputs": [],
   "source": [
    "data['OrderPeriod'] = data.take_time.apply(lambda x: datetime.datetime.fromtimestamp(time.mktime(time.strptime(x,\"%Y-%m-%d\"))).strftime('%Y-%m'))"
   ]
  },
  {
   "cell_type": "code",
   "execution_count": 6,
   "metadata": {
    "collapsed": false
   },
   "outputs": [
    {
     "data": {
      "text/html": [
       "<div style=\"max-height:1000px;max-width:1500px;overflow:auto;\">\n",
       "<table border=\"1\" class=\"dataframe\">\n",
       "  <thead>\n",
       "    <tr style=\"text-align: right;\">\n",
       "      <th></th>\n",
       "      <th>id</th>\n",
       "      <th>uid</th>\n",
       "      <th>total_price</th>\n",
       "      <th>mobile</th>\n",
       "      <th>create_time</th>\n",
       "      <th>take_time</th>\n",
       "      <th>OrderPeriod</th>\n",
       "    </tr>\n",
       "  </thead>\n",
       "  <tbody>\n",
       "    <tr>\n",
       "      <th>0</th>\n",
       "      <td> 95026</td>\n",
       "      <td>  37104</td>\n",
       "      <td>  350</td>\n",
       "      <td> 18551588538</td>\n",
       "      <td> 2016-01-04</td>\n",
       "      <td> 2016-01-04</td>\n",
       "      <td> 2016-01</td>\n",
       "    </tr>\n",
       "    <tr>\n",
       "      <th>1</th>\n",
       "      <td> 95560</td>\n",
       "      <td>   6010</td>\n",
       "      <td> 1089</td>\n",
       "      <td> 13585576428</td>\n",
       "      <td> 2016-01-04</td>\n",
       "      <td> 2016-01-05</td>\n",
       "      <td> 2016-01</td>\n",
       "    </tr>\n",
       "    <tr>\n",
       "      <th>2</th>\n",
       "      <td> 95639</td>\n",
       "      <td> 119568</td>\n",
       "      <td>  250</td>\n",
       "      <td> 18616759042</td>\n",
       "      <td> 2016-01-05</td>\n",
       "      <td> 2016-01-05</td>\n",
       "      <td> 2016-01</td>\n",
       "    </tr>\n",
       "    <tr>\n",
       "      <th>3</th>\n",
       "      <td> 95863</td>\n",
       "      <td>  37104</td>\n",
       "      <td>  410</td>\n",
       "      <td> 18551588538</td>\n",
       "      <td> 2016-01-05</td>\n",
       "      <td> 2016-01-05</td>\n",
       "      <td> 2016-01</td>\n",
       "    </tr>\n",
       "    <tr>\n",
       "      <th>4</th>\n",
       "      <td> 95910</td>\n",
       "      <td>  33603</td>\n",
       "      <td>  448</td>\n",
       "      <td> 13916340391</td>\n",
       "      <td> 2016-01-05</td>\n",
       "      <td> 2016-01-05</td>\n",
       "      <td> 2016-01</td>\n",
       "    </tr>\n",
       "  </tbody>\n",
       "</table>\n",
       "</div>"
      ],
      "text/plain": [
       "      id     uid  total_price       mobile create_time   take_time OrderPeriod\n",
       "0  95026   37104          350  18551588538  2016-01-04  2016-01-04     2016-01\n",
       "1  95560    6010         1089  13585576428  2016-01-04  2016-01-05     2016-01\n",
       "2  95639  119568          250  18616759042  2016-01-05  2016-01-05     2016-01\n",
       "3  95863   37104          410  18551588538  2016-01-05  2016-01-05     2016-01\n",
       "4  95910   33603          448  13916340391  2016-01-05  2016-01-05     2016-01"
      ]
     },
     "execution_count": 6,
     "metadata": {},
     "output_type": "execute_result"
    }
   ],
   "source": [
    "data.head()"
   ]
  },
  {
   "cell_type": "markdown",
   "metadata": {},
   "source": [
    "##确定用户的群组（基于用户首次订购）"
   ]
  },
  {
   "cell_type": "markdown",
   "metadata": {},
   "source": [
    "添加新的一列，并将列名更改为CohortGroup，以表示用户首次购买行为发生的年和月。"
   ]
  },
  {
   "cell_type": "code",
   "execution_count": 7,
   "metadata": {
    "collapsed": true
   },
   "outputs": [],
   "source": [
    "data.set_index('uid', inplace=True)\n",
    "data['CohortGroup'] = data.groupby(level=0)['take_time'].min().apply(lambda x: datetime.datetime.fromtimestamp(time.mktime(time.strptime(x,\"%Y-%m-%d\"))).strftime('%Y-%m'))\n",
    "data.reset_index(inplace = True) "
   ]
  },
  {
   "cell_type": "code",
   "execution_count": 8,
   "metadata": {
    "collapsed": false
   },
   "outputs": [
    {
     "data": {
      "text/html": [
       "<div style=\"max-height:1000px;max-width:1500px;overflow:auto;\">\n",
       "<table border=\"1\" class=\"dataframe\">\n",
       "  <thead>\n",
       "    <tr style=\"text-align: right;\">\n",
       "      <th></th>\n",
       "      <th>uid</th>\n",
       "      <th>id</th>\n",
       "      <th>total_price</th>\n",
       "      <th>mobile</th>\n",
       "      <th>create_time</th>\n",
       "      <th>take_time</th>\n",
       "      <th>OrderPeriod</th>\n",
       "      <th>CohortGroup</th>\n",
       "    </tr>\n",
       "  </thead>\n",
       "  <tbody>\n",
       "    <tr>\n",
       "      <th>0</th>\n",
       "      <td>  37104</td>\n",
       "      <td> 95026</td>\n",
       "      <td>  350</td>\n",
       "      <td> 18551588538</td>\n",
       "      <td> 2016-01-04</td>\n",
       "      <td> 2016-01-04</td>\n",
       "      <td> 2016-01</td>\n",
       "      <td> 2016-01</td>\n",
       "    </tr>\n",
       "    <tr>\n",
       "      <th>1</th>\n",
       "      <td>   6010</td>\n",
       "      <td> 95560</td>\n",
       "      <td> 1089</td>\n",
       "      <td> 13585576428</td>\n",
       "      <td> 2016-01-04</td>\n",
       "      <td> 2016-01-05</td>\n",
       "      <td> 2016-01</td>\n",
       "      <td> 2016-01</td>\n",
       "    </tr>\n",
       "    <tr>\n",
       "      <th>2</th>\n",
       "      <td> 119568</td>\n",
       "      <td> 95639</td>\n",
       "      <td>  250</td>\n",
       "      <td> 18616759042</td>\n",
       "      <td> 2016-01-05</td>\n",
       "      <td> 2016-01-05</td>\n",
       "      <td> 2016-01</td>\n",
       "      <td> 2016-01</td>\n",
       "    </tr>\n",
       "    <tr>\n",
       "      <th>3</th>\n",
       "      <td>  37104</td>\n",
       "      <td> 95863</td>\n",
       "      <td>  410</td>\n",
       "      <td> 18551588538</td>\n",
       "      <td> 2016-01-05</td>\n",
       "      <td> 2016-01-05</td>\n",
       "      <td> 2016-01</td>\n",
       "      <td> 2016-01</td>\n",
       "    </tr>\n",
       "    <tr>\n",
       "      <th>4</th>\n",
       "      <td>  33603</td>\n",
       "      <td> 95910</td>\n",
       "      <td>  448</td>\n",
       "      <td> 13916340391</td>\n",
       "      <td> 2016-01-05</td>\n",
       "      <td> 2016-01-05</td>\n",
       "      <td> 2016-01</td>\n",
       "      <td> 2016-01</td>\n",
       "    </tr>\n",
       "  </tbody>\n",
       "</table>\n",
       "</div>"
      ],
      "text/plain": [
       "      uid     id  total_price       mobile create_time   take_time  \\\n",
       "0   37104  95026          350  18551588538  2016-01-04  2016-01-04   \n",
       "1    6010  95560         1089  13585576428  2016-01-04  2016-01-05   \n",
       "2  119568  95639          250  18616759042  2016-01-05  2016-01-05   \n",
       "3   37104  95863          410  18551588538  2016-01-05  2016-01-05   \n",
       "4   33603  95910          448  13916340391  2016-01-05  2016-01-05   \n",
       "\n",
       "  OrderPeriod CohortGroup  \n",
       "0     2016-01     2016-01  \n",
       "1     2016-01     2016-01  \n",
       "2     2016-01     2016-01  \n",
       "3     2016-01     2016-01  \n",
       "4     2016-01     2016-01  "
      ]
     },
     "execution_count": 8,
     "metadata": {},
     "output_type": "execute_result"
    }
   ],
   "source": [
    "data.head()"
   ]
  },
  {
   "cell_type": "markdown",
   "metadata": {},
   "source": [
    "##按照群组和行为时间汇总数据"
   ]
  },
  {
   "cell_type": "markdown",
   "metadata": {},
   "source": [
    "为了考察月度群组，我们需要对一个月（OrderPeriod）之中每个CohortGroup的用户数、订购数和花费金额进行加总。"
   ]
  },
  {
   "cell_type": "code",
   "execution_count": 9,
   "metadata": {
    "collapsed": true
   },
   "outputs": [],
   "source": [
    "grouped = data.groupby(['CohortGroup', 'OrderPeriod'])"
   ]
  },
  {
   "cell_type": "code",
   "execution_count": 10,
   "metadata": {
    "collapsed": true
   },
   "outputs": [],
   "source": [
    "cohorts = grouped.agg({'uid': pd.Series.nunique,\n",
    "                       'id': pd.Series.nunique,\n",
    "                       'total_price': np.sum})"
   ]
  },
  {
   "cell_type": "code",
   "execution_count": 11,
   "metadata": {
    "collapsed": true
   },
   "outputs": [],
   "source": [
    "cohorts.rename(columns={'uid': 'TotalUsers',\n",
    "                        'id': 'TotalOrders'}, inplace=True)"
   ]
  },
  {
   "cell_type": "code",
   "execution_count": 12,
   "metadata": {
    "collapsed": false
   },
   "outputs": [
    {
     "data": {
      "text/html": [
       "<div style=\"max-height:1000px;max-width:1500px;overflow:auto;\">\n",
       "<table border=\"1\" class=\"dataframe\">\n",
       "  <thead>\n",
       "    <tr style=\"text-align: right;\">\n",
       "      <th></th>\n",
       "      <th></th>\n",
       "      <th>total_price</th>\n",
       "      <th>TotalUsers</th>\n",
       "      <th>TotalOrders</th>\n",
       "    </tr>\n",
       "    <tr>\n",
       "      <th>CohortGroup</th>\n",
       "      <th>OrderPeriod</th>\n",
       "      <th></th>\n",
       "      <th></th>\n",
       "      <th></th>\n",
       "    </tr>\n",
       "  </thead>\n",
       "  <tbody>\n",
       "    <tr>\n",
       "      <th rowspan=\"4\" valign=\"top\">2016-01</th>\n",
       "      <th>2016-01</th>\n",
       "      <td> 31634.0</td>\n",
       "      <td> 51</td>\n",
       "      <td>  68</td>\n",
       "    </tr>\n",
       "    <tr>\n",
       "      <th>2016-02</th>\n",
       "      <td>  3940.0</td>\n",
       "      <td>  5</td>\n",
       "      <td>  12</td>\n",
       "    </tr>\n",
       "    <tr>\n",
       "      <th>2016-03</th>\n",
       "      <td>  4475.4</td>\n",
       "      <td>  4</td>\n",
       "      <td>  12</td>\n",
       "    </tr>\n",
       "    <tr>\n",
       "      <th>2016-04</th>\n",
       "      <td>  7344.0</td>\n",
       "      <td>  8</td>\n",
       "      <td>  14</td>\n",
       "    </tr>\n",
       "    <tr>\n",
       "      <th rowspan=\"3\" valign=\"top\">2016-02</th>\n",
       "      <th>2016-02</th>\n",
       "      <td> 23131.9</td>\n",
       "      <td> 30</td>\n",
       "      <td>  43</td>\n",
       "    </tr>\n",
       "    <tr>\n",
       "      <th>2016-03</th>\n",
       "      <td>  6092.0</td>\n",
       "      <td>  8</td>\n",
       "      <td>  11</td>\n",
       "    </tr>\n",
       "    <tr>\n",
       "      <th>2016-04</th>\n",
       "      <td>  8122.0</td>\n",
       "      <td>  5</td>\n",
       "      <td>  13</td>\n",
       "    </tr>\n",
       "    <tr>\n",
       "      <th rowspan=\"2\" valign=\"top\">2016-03</th>\n",
       "      <th>2016-03</th>\n",
       "      <td> 44975.5</td>\n",
       "      <td> 72</td>\n",
       "      <td>  96</td>\n",
       "    </tr>\n",
       "    <tr>\n",
       "      <th>2016-04</th>\n",
       "      <td> 10944.3</td>\n",
       "      <td> 10</td>\n",
       "      <td>  25</td>\n",
       "    </tr>\n",
       "    <tr>\n",
       "      <th>2016-04</th>\n",
       "      <th>2016-04</th>\n",
       "      <td> 62765.6</td>\n",
       "      <td> 71</td>\n",
       "      <td> 151</td>\n",
       "    </tr>\n",
       "  </tbody>\n",
       "</table>\n",
       "</div>"
      ],
      "text/plain": [
       "                         total_price  TotalUsers  TotalOrders\n",
       "CohortGroup OrderPeriod                                      \n",
       "2016-01     2016-01          31634.0          51           68\n",
       "            2016-02           3940.0           5           12\n",
       "            2016-03           4475.4           4           12\n",
       "            2016-04           7344.0           8           14\n",
       "2016-02     2016-02          23131.9          30           43\n",
       "            2016-03           6092.0           8           11\n",
       "            2016-04           8122.0           5           13\n",
       "2016-03     2016-03          44975.5          72           96\n",
       "            2016-04          10944.3          10           25\n",
       "2016-04     2016-04          62765.6          71          151"
      ]
     },
     "execution_count": 12,
     "metadata": {},
     "output_type": "execute_result"
    }
   ],
   "source": [
    "cohorts"
   ]
  },
  {
   "cell_type": "markdown",
   "metadata": {},
   "source": [
    "##标注群组与群组时段"
   ]
  },
  {
   "cell_type": "markdown",
   "metadata": {},
   "source": [
    "接下来，我们想看看每个群组在发生首次购买之后的几个月中的表现，这要求我们对每个群发生购买之后的每个月进行标记。例如，CohortPeriod = 1表示第一个月，CohortPeriod = 2表示第二个月，以此类推。\n",
    "这么一来，我们就拥有了在不同的用户活跃阶段对群组进行对比的能力。"
   ]
  },
  {
   "cell_type": "code",
   "execution_count": 13,
   "metadata": {
    "collapsed": false
   },
   "outputs": [],
   "source": [
    "def cohort_period(df):\n",
    "    \"\"\"\n",
    "    创建一个名为 `CohortPeriod` 的数据列，代表购买时间与第一次购买时间之间相差的期数\n",
    "    \n",
    "    举个例子\n",
    "    ---------\n",
    "    比如你想获得到与第一次购买相差3个月的每个用户信息：\n",
    "        df.sort(['UserId', 'OrderTime', inplace=True)\n",
    "        df = df.groupby('UserId').apply(cohort_period)\n",
    "        df[df.CohortPeriod == 3]\n",
    "    \"\"\"\n",
    "    df['CohortPeriod'] = np.arange(len(df)) + 1\n",
    "    return df"
   ]
  },
  {
   "cell_type": "code",
   "execution_count": 14,
   "metadata": {
    "collapsed": true
   },
   "outputs": [],
   "source": [
    "cohorts = cohorts.groupby(level=0).apply(cohort_period)"
   ]
  },
  {
   "cell_type": "code",
   "execution_count": 15,
   "metadata": {
    "collapsed": false
   },
   "outputs": [
    {
     "data": {
      "text/html": [
       "<div style=\"max-height:1000px;max-width:1500px;overflow:auto;\">\n",
       "<table border=\"1\" class=\"dataframe\">\n",
       "  <thead>\n",
       "    <tr style=\"text-align: right;\">\n",
       "      <th></th>\n",
       "      <th></th>\n",
       "      <th>total_price</th>\n",
       "      <th>TotalUsers</th>\n",
       "      <th>TotalOrders</th>\n",
       "      <th>CohortPeriod</th>\n",
       "    </tr>\n",
       "    <tr>\n",
       "      <th>CohortGroup</th>\n",
       "      <th>OrderPeriod</th>\n",
       "      <th></th>\n",
       "      <th></th>\n",
       "      <th></th>\n",
       "      <th></th>\n",
       "    </tr>\n",
       "  </thead>\n",
       "  <tbody>\n",
       "    <tr>\n",
       "      <th rowspan=\"4\" valign=\"top\">2016-01</th>\n",
       "      <th>2016-01</th>\n",
       "      <td> 31634.0</td>\n",
       "      <td> 51</td>\n",
       "      <td>  68</td>\n",
       "      <td> 1</td>\n",
       "    </tr>\n",
       "    <tr>\n",
       "      <th>2016-02</th>\n",
       "      <td>  3940.0</td>\n",
       "      <td>  5</td>\n",
       "      <td>  12</td>\n",
       "      <td> 2</td>\n",
       "    </tr>\n",
       "    <tr>\n",
       "      <th>2016-03</th>\n",
       "      <td>  4475.4</td>\n",
       "      <td>  4</td>\n",
       "      <td>  12</td>\n",
       "      <td> 3</td>\n",
       "    </tr>\n",
       "    <tr>\n",
       "      <th>2016-04</th>\n",
       "      <td>  7344.0</td>\n",
       "      <td>  8</td>\n",
       "      <td>  14</td>\n",
       "      <td> 4</td>\n",
       "    </tr>\n",
       "    <tr>\n",
       "      <th rowspan=\"3\" valign=\"top\">2016-02</th>\n",
       "      <th>2016-02</th>\n",
       "      <td> 23131.9</td>\n",
       "      <td> 30</td>\n",
       "      <td>  43</td>\n",
       "      <td> 1</td>\n",
       "    </tr>\n",
       "    <tr>\n",
       "      <th>2016-03</th>\n",
       "      <td>  6092.0</td>\n",
       "      <td>  8</td>\n",
       "      <td>  11</td>\n",
       "      <td> 2</td>\n",
       "    </tr>\n",
       "    <tr>\n",
       "      <th>2016-04</th>\n",
       "      <td>  8122.0</td>\n",
       "      <td>  5</td>\n",
       "      <td>  13</td>\n",
       "      <td> 3</td>\n",
       "    </tr>\n",
       "    <tr>\n",
       "      <th rowspan=\"2\" valign=\"top\">2016-03</th>\n",
       "      <th>2016-03</th>\n",
       "      <td> 44975.5</td>\n",
       "      <td> 72</td>\n",
       "      <td>  96</td>\n",
       "      <td> 1</td>\n",
       "    </tr>\n",
       "    <tr>\n",
       "      <th>2016-04</th>\n",
       "      <td> 10944.3</td>\n",
       "      <td> 10</td>\n",
       "      <td>  25</td>\n",
       "      <td> 2</td>\n",
       "    </tr>\n",
       "    <tr>\n",
       "      <th>2016-04</th>\n",
       "      <th>2016-04</th>\n",
       "      <td> 62765.6</td>\n",
       "      <td> 71</td>\n",
       "      <td> 151</td>\n",
       "      <td> 1</td>\n",
       "    </tr>\n",
       "  </tbody>\n",
       "</table>\n",
       "</div>"
      ],
      "text/plain": [
       "                         total_price  TotalUsers  TotalOrders  CohortPeriod\n",
       "CohortGroup OrderPeriod                                                    \n",
       "2016-01     2016-01          31634.0          51           68             1\n",
       "            2016-02           3940.0           5           12             2\n",
       "            2016-03           4475.4           4           12             3\n",
       "            2016-04           7344.0           8           14             4\n",
       "2016-02     2016-02          23131.9          30           43             1\n",
       "            2016-03           6092.0           8           11             2\n",
       "            2016-04           8122.0           5           13             3\n",
       "2016-03     2016-03          44975.5          72           96             1\n",
       "            2016-04          10944.3          10           25             2\n",
       "2016-04     2016-04          62765.6          71          151             1"
      ]
     },
     "execution_count": 15,
     "metadata": {},
     "output_type": "execute_result"
    }
   ],
   "source": [
    "cohorts"
   ]
  },
  {
   "cell_type": "markdown",
   "metadata": {},
   "source": [
    "##用户群组与用户留存"
   ]
  },
  {
   "cell_type": "markdown",
   "metadata": {},
   "source": [
    "接下来，我们想要看看随着时间的推移，每个群组中用户数量的变化。需要注意的是，我们关注的是百分比的变化，而非数值的绝对变化。\n",
    "为了达成目标，我们首先需要构建一个包含了每个断代群以及其规模的pandas时间序列。"
   ]
  },
  {
   "cell_type": "code",
   "execution_count": 16,
   "metadata": {
    "collapsed": false
   },
   "outputs": [
    {
     "data": {
      "text/plain": [
       "CohortGroup\n",
       "2016-01        51\n",
       "2016-02        30\n",
       "2016-03        72\n",
       "2016-04        71\n",
       "Name: TotalUsers, dtype: int64"
      ]
     },
     "execution_count": 16,
     "metadata": {},
     "output_type": "execute_result"
    }
   ],
   "source": [
    "cohorts.reset_index(inplace=True)\n",
    "cohorts.set_index(['CohortGroup', 'CohortPeriod'], inplace=True)\n",
    "cohort_group_size = cohorts['TotalUsers'].groupby(level=0).first()\n",
    "cohort_group_size.head()"
   ]
  },
  {
   "cell_type": "markdown",
   "metadata": {
    "collapsed": true
   },
   "source": [
    "整个过程进行完成之后，我们得到的矩阵如下所示："
   ]
  },
  {
   "cell_type": "code",
   "execution_count": 17,
   "metadata": {
    "collapsed": false
   },
   "outputs": [
    {
     "name": "stderr",
     "output_type": "stream",
     "text": [
      "/Library/Python/2.7/site-packages/pandas/core/index.py:3141: FutureWarning: elementwise comparison failed; returning scalar instead, but in the future will perform elementwise comparison\n",
      "  return np.sum(name == np.asarray(self.names)) > 1\n"
     ]
    },
    {
     "data": {
      "text/html": [
       "<div style=\"max-height:1000px;max-width:1500px;overflow:auto;\">\n",
       "<table border=\"1\" class=\"dataframe\">\n",
       "  <thead>\n",
       "    <tr style=\"text-align: right;\">\n",
       "      <th>CohortGroup</th>\n",
       "      <th>2016-01</th>\n",
       "      <th>2016-02</th>\n",
       "      <th>2016-03</th>\n",
       "      <th>2016-04</th>\n",
       "    </tr>\n",
       "    <tr>\n",
       "      <th>CohortPeriod</th>\n",
       "      <th></th>\n",
       "      <th></th>\n",
       "      <th></th>\n",
       "      <th></th>\n",
       "    </tr>\n",
       "  </thead>\n",
       "  <tbody>\n",
       "    <tr>\n",
       "      <th>1</th>\n",
       "      <td> 51</td>\n",
       "      <td> 30</td>\n",
       "      <td> 72</td>\n",
       "      <td> 71</td>\n",
       "    </tr>\n",
       "    <tr>\n",
       "      <th>2</th>\n",
       "      <td>  5</td>\n",
       "      <td>  8</td>\n",
       "      <td> 10</td>\n",
       "      <td>NaN</td>\n",
       "    </tr>\n",
       "    <tr>\n",
       "      <th>3</th>\n",
       "      <td>  4</td>\n",
       "      <td>  5</td>\n",
       "      <td>NaN</td>\n",
       "      <td>NaN</td>\n",
       "    </tr>\n",
       "    <tr>\n",
       "      <th>4</th>\n",
       "      <td>  8</td>\n",
       "      <td>NaN</td>\n",
       "      <td>NaN</td>\n",
       "      <td>NaN</td>\n",
       "    </tr>\n",
       "  </tbody>\n",
       "</table>\n",
       "</div>"
      ],
      "text/plain": [
       "CohortGroup   2016-01  2016-02  2016-03  2016-04\n",
       "CohortPeriod                                    \n",
       "1                  51       30       72       71\n",
       "2                   5        8       10      NaN\n",
       "3                   4        5      NaN      NaN\n",
       "4                   8      NaN      NaN      NaN"
      ]
     },
     "execution_count": 17,
     "metadata": {},
     "output_type": "execute_result"
    }
   ],
   "source": [
    "cohorts['TotalUsers'].unstack(0).head()"
   ]
  },
  {
   "cell_type": "markdown",
   "metadata": {},
   "source": [
    "然后我们可以将矩阵中的每个元素都除以对应的cohort_group_size。\n",
    "这样一来，我们便能得到所谓的客户留存率矩阵（user_retention），它显示了各个群组中在对应时间段上发生了购买行为的用户占比，例如在2016年1月份发生购买行为的用户中有9.8%在之后2月份（CohortPeriod＝2）又进行了购买。"
   ]
  },
  {
   "cell_type": "code",
   "execution_count": 18,
   "metadata": {
    "collapsed": false
   },
   "outputs": [
    {
     "data": {
      "text/html": [
       "<div style=\"max-height:1000px;max-width:1500px;overflow:auto;\">\n",
       "<table border=\"1\" class=\"dataframe\">\n",
       "  <thead>\n",
       "    <tr style=\"text-align: right;\">\n",
       "      <th>CohortGroup</th>\n",
       "      <th>2016-01</th>\n",
       "      <th>2016-02</th>\n",
       "      <th>2016-03</th>\n",
       "      <th>2016-04</th>\n",
       "    </tr>\n",
       "    <tr>\n",
       "      <th>CohortPeriod</th>\n",
       "      <th></th>\n",
       "      <th></th>\n",
       "      <th></th>\n",
       "      <th></th>\n",
       "    </tr>\n",
       "  </thead>\n",
       "  <tbody>\n",
       "    <tr>\n",
       "      <th>1</th>\n",
       "      <td> 1.000000</td>\n",
       "      <td> 1.000000</td>\n",
       "      <td> 1.000000</td>\n",
       "      <td>  1</td>\n",
       "    </tr>\n",
       "    <tr>\n",
       "      <th>2</th>\n",
       "      <td> 0.098039</td>\n",
       "      <td> 0.266667</td>\n",
       "      <td> 0.138889</td>\n",
       "      <td>NaN</td>\n",
       "    </tr>\n",
       "    <tr>\n",
       "      <th>3</th>\n",
       "      <td> 0.078431</td>\n",
       "      <td> 0.166667</td>\n",
       "      <td>      NaN</td>\n",
       "      <td>NaN</td>\n",
       "    </tr>\n",
       "    <tr>\n",
       "      <th>4</th>\n",
       "      <td> 0.156863</td>\n",
       "      <td>      NaN</td>\n",
       "      <td>      NaN</td>\n",
       "      <td>NaN</td>\n",
       "    </tr>\n",
       "  </tbody>\n",
       "</table>\n",
       "</div>"
      ],
      "text/plain": [
       "CohortGroup    2016-01   2016-02   2016-03  2016-04\n",
       "CohortPeriod                                       \n",
       "1             1.000000  1.000000  1.000000        1\n",
       "2             0.098039  0.266667  0.138889      NaN\n",
       "3             0.078431  0.166667       NaN      NaN\n",
       "4             0.156863       NaN       NaN      NaN"
      ]
     },
     "execution_count": 18,
     "metadata": {},
     "output_type": "execute_result"
    }
   ],
   "source": [
    "user_retention = cohorts['TotalUsers'].unstack(0).divide(cohort_group_size, axis=1)\n",
    "user_retention.head()"
   ]
  },
  {
   "cell_type": "markdown",
   "metadata": {},
   "source": [
    "最后，我们可以运用绘图的方式对群组的时间变化趋势进行展示，以尝试去发现群组之间的行为差异与相似点。常见的两种图表形式为折线图和热图，下文中我们将分别对两种图表进行实现。\n",
    "可以发现，在图表中每个群组在第一个时段的用户留存率都是100%——这是因为我们的同期群本身就是由用户的首次购买行为确定的。"
   ]
  },
  {
   "cell_type": "code",
   "execution_count": 19,
   "metadata": {
    "collapsed": false
   },
   "outputs": [
    {
     "data": {
      "text/plain": [
       "<matplotlib.axes._subplots.AxesSubplot at 0x10a414450>"
      ]
     },
     "execution_count": 19,
     "metadata": {},
     "output_type": "execute_result"
    },
    {
     "data": {
      "image/png": "[encoded data removed]",
      "text/plain": [
       "<matplotlib.figure.Figure at 0x10a40ae90>"
      ]
     },
     "metadata": {},
     "output_type": "display_data"
    }
   ],
   "source": [
    "user_retention[['2016-01','2016-02','2016-03','2016-04']].plot(figsize=(10,5))"
   ]
  },
  {
   "cell_type": "code",
   "execution_count": 20,
   "metadata": {
    "collapsed": false
   },
   "outputs": [
    {
     "data": {
      "text/html": [
       "<div style=\"max-height:1000px;max-width:1500px;overflow:auto;\">\n",
       "<table border=\"1\" class=\"dataframe\">\n",
       "  <thead>\n",
       "    <tr style=\"text-align: right;\">\n",
       "      <th>CohortPeriod</th>\n",
       "      <th>1</th>\n",
       "      <th>2</th>\n",
       "      <th>3</th>\n",
       "      <th>4</th>\n",
       "    </tr>\n",
       "    <tr>\n",
       "      <th>CohortGroup</th>\n",
       "      <th></th>\n",
       "      <th></th>\n",
       "      <th></th>\n",
       "      <th></th>\n",
       "    </tr>\n",
       "  </thead>\n",
       "  <tbody>\n",
       "    <tr>\n",
       "      <th>2016-01</th>\n",
       "      <td> 1</td>\n",
       "      <td> 0.098039</td>\n",
       "      <td> 0.078431</td>\n",
       "      <td> 0.156863</td>\n",
       "    </tr>\n",
       "    <tr>\n",
       "      <th>2016-02</th>\n",
       "      <td> 1</td>\n",
       "      <td> 0.266667</td>\n",
       "      <td> 0.166667</td>\n",
       "      <td>      NaN</td>\n",
       "    </tr>\n",
       "    <tr>\n",
       "      <th>2016-03</th>\n",
       "      <td> 1</td>\n",
       "      <td> 0.138889</td>\n",
       "      <td>      NaN</td>\n",
       "      <td>      NaN</td>\n",
       "    </tr>\n",
       "    <tr>\n",
       "      <th>2016-04</th>\n",
       "      <td> 1</td>\n",
       "      <td>      NaN</td>\n",
       "      <td>      NaN</td>\n",
       "      <td>      NaN</td>\n",
       "    </tr>\n",
       "  </tbody>\n",
       "</table>\n",
       "</div>"
      ],
      "text/plain": [
       "CohortPeriod  1         2         3         4\n",
       "CohortGroup                                  \n",
       "2016-01       1  0.098039  0.078431  0.156863\n",
       "2016-02       1  0.266667  0.166667       NaN\n",
       "2016-03       1  0.138889       NaN       NaN\n",
       "2016-04       1       NaN       NaN       NaN"
      ]
     },
     "execution_count": 20,
     "metadata": {},
     "output_type": "execute_result"
    }
   ],
   "source": [
    "user_retention.T"
   ]
  },
  {
   "cell_type": "code",
   "execution_count": 21,
   "metadata": {
    "collapsed": false
   },
   "outputs": [
    {
     "name": "stderr",
     "output_type": "stream",
     "text": [
      ":0: FutureWarning: IPython widgets are experimental and may change in the future.\n"
     ]
    }
   ],
   "source": [
    "import seaborn as sns"
   ]
  },
  {
   "cell_type": "code",
   "execution_count": 22,
   "metadata": {
    "collapsed": false,
    "scrolled": false
   },
   "outputs": [
    {
     "data": {
      "image/png": "[encoded data removed]",
      "text/plain": [
       "<matplotlib.figure.Figure at 0x10b88e510>"
      ]
     },
     "metadata": {},
     "output_type": "display_data"
    }
   ],
   "source": [
    "sns.set(style='white')\n",
    "plt.figure(figsize=(12, 8))\n",
    "plt.title('Cohorts: User Retention')\n",
    "sns.heatmap(user_retention.T, mask=user_retention.T.isnull(), annot=True, fmt='.0%');"
   ]
  },
  {
   "cell_type": "markdown",
   "metadata": {},
   "source": [
    "和我们的直觉感受相似，我们可以从上面的图表中看到随着时间的流逝，购买的人越来越少。"
   ]
  },
  {
   "cell_type": "markdown",
   "metadata": {},
   "source": []
  }
 ],
 "metadata": {
  "anaconda-cloud": {},
  "kernelspec": {
   "display_name": "Python 2",
   "language": "python",
   "name": "python2"
  },
  "language_info": {
   "codemirror_mode": {
    "name": "ipython",
    "version": 2
   },
   "file_extension": ".py",
   "mimetype": "text/x-python",
   "name": "python",
   "nbconvert_exporter": "python",
   "pygments_lexer": "ipython2",
   "version": "2.7.12"
  }
 },
 "nbformat": 4,
 "nbformat_minor": 0
}
